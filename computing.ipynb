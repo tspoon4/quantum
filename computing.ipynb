{
  "cells": [
    {
      "cell_type": "code",
      "execution_count": null,
      "metadata": {
        "id": "OLr7Mbfy_Ih2"
      },
      "outputs": [],
      "source": [
        "import numpy as np"
      ]
    },
    {
      "cell_type": "code",
      "execution_count": null,
      "metadata": {
        "id": "Ro75TUMhCXaJ"
      },
      "outputs": [],
      "source": [
        "# Helper functions\n",
        "\n",
        "def identity(): return np.array([[1, 0], [0, 1]], dtype=np.complex64)\n",
        "def pauli_x(): return np.array([[0, 1], [1, 0]], dtype=np.complex64)\n",
        "def pauli_y(): return np.array([[0, -1j], [1j, 0]], dtype=np.complex64)\n",
        "def pauli_z(): return np.array([[1, 0], [0, -1]], dtype=np.complex64)\n",
        "def hadamard(): return np.sqrt(0.5) * np.array([[1, 1], [1, -1]], dtype=np.complex64)\n",
        "def phase(phi): return np.array([[1, 0], [0, np.exp(1j * phi)]], dtype=np.complex64)\n",
        "def controlled(gate): return np.block([[np.eye(2, dtype=np.complex64), np.zeros((2,2), dtype=np.complex64)], [np.zeros((2,2), dtype=np.complex64), gate]])\n",
        "def cnot(): return controlled(pauli_x())\n",
        "def swap(): return np.array([[1, 0, 0, 0], [0, 0, 1, 0], [0, 1, 0, 0], [0, 0, 0, 1]], dtype=np.complex64)"
      ]
    },
    {
      "cell_type": "code",
      "execution_count": null,
      "metadata": {
        "id": "2NevGCGa_TxR"
      },
      "outputs": [],
      "source": [
        "# Define gates\n",
        "# Reference: https://en.wikipedia.org/wiki/Quantum_logic_gate\n",
        "\n",
        "I = identity()\n",
        "X = pauli_x()\n",
        "Y = pauli_y()\n",
        "Z = pauli_z()\n",
        "H = hadamard()\n",
        "S = phase(0.5 * np.pi)\n",
        "T = phase(0.25 * np.pi)\n",
        "CNOT = cnot()\n",
        "SWAP = swap()"
      ]
    },
    {
      "cell_type": "code",
      "execution_count": null,
      "metadata": {
        "id": "0Yf-YMgQNlQC"
      },
      "outputs": [],
      "source": [
        "# Print gates\n",
        "\n",
        "print(I)\n",
        "print(X)\n",
        "print(Y)\n",
        "print(Z)\n",
        "print(H)\n",
        "print(S)\n",
        "print(T)\n",
        "print(CNOT)\n",
        "print(SWAP)"
      ]
    },
    {
      "cell_type": "code",
      "execution_count": null,
      "metadata": {
        "id": "rW-xBpqLBUKn"
      },
      "outputs": [],
      "source": [
        "# Print identity relations\n",
        "\n",
        "print(np.matmul(I, I))\n",
        "print(np.matmul(X, X))\n",
        "print(np.matmul(Y, Y))\n",
        "print(np.matmul(Z, Z))\n",
        "print(-1j * np.matmul(X, np.matmul(Y, Z)))\n",
        "print(np.matmul(H, H))\n",
        "print(0.5 * (np.kron(I, I) + np.kron(X, X) + np.kron(Y, Y) + np.kron(Z, Z)))"
      ]
    },
    {
      "cell_type": "code",
      "execution_count": null,
      "metadata": {
        "id": "h-r55xyFHWRN"
      },
      "outputs": [],
      "source": [
        "# Serial X.Y gate\n",
        "\n",
        "print(np.matmul(X, Y))"
      ]
    },
    {
      "cell_type": "code",
      "execution_count": null,
      "metadata": {
        "id": "RvpgBiQrPSBz"
      },
      "outputs": [],
      "source": [
        "# Parallel Y@X gate\n",
        "\n",
        "print(np.kron(Y, X))"
      ]
    },
    {
      "cell_type": "code",
      "execution_count": null,
      "metadata": {
        "id": "em-u4XPvEl0b"
      },
      "outputs": [],
      "source": [
        "# Transform 2 qbits\n",
        "\n",
        "H2 = np.kron(H, H)\n",
        "print(H2)\n",
        "\n",
        "q0 = np.array([1, 0, 0, 0], dtype=np.complex64)\n",
        "print(q0)\n",
        "\n",
        "np.matmul(H2, q0)"
      ]
    },
    {
      "cell_type": "code",
      "source": [
        "# Transform 2 qbits\n",
        "\n",
        "K = np.kron(H, I)\n",
        "print(K)\n",
        "\n",
        "q0 = np.sqrt(0.5) * np.array([1, 0, 0, 1], dtype=np.complex64)\n",
        "print(q0)\n",
        "\n",
        "np.matmul(K, q0)"
      ],
      "metadata": {
        "id": "aeu1bDICF8oz"
      },
      "execution_count": null,
      "outputs": []
    },
    {
      "cell_type": "code",
      "source": [],
      "metadata": {
        "id": "AdHhEr3WPXQg"
      },
      "execution_count": null,
      "outputs": []
    }
  ],
  "metadata": {
    "colab": {
      "private_outputs": true,
      "provenance": []
    },
    "kernelspec": {
      "display_name": "Python 3 (ipykernel)",
      "language": "python",
      "name": "python3"
    },
    "language_info": {
      "codemirror_mode": {
        "name": "ipython",
        "version": 3
      },
      "file_extension": ".py",
      "mimetype": "text/x-python",
      "name": "python",
      "nbconvert_exporter": "python",
      "pygments_lexer": "ipython3",
      "version": "3.12.0"
    }
  },
  "nbformat": 4,
  "nbformat_minor": 0
}